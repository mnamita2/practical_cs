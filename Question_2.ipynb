{
  "nbformat": 4,
  "nbformat_minor": 0,
  "metadata": {
    "colab": {
      "name": "Question 2",
      "provenance": [],
      "authorship_tag": "ABX9TyNg9LZuAhx0objyH68EtGBM",
      "include_colab_link": true
    },
    "kernelspec": {
      "name": "python3",
      "display_name": "Python 3"
    },
    "language_info": {
      "name": "python"
    }
  },
  "cells": [
    {
      "cell_type": "markdown",
      "metadata": {
        "id": "view-in-github",
        "colab_type": "text"
      },
      "source": [
        "<a href=\"https://colab.research.google.com/github/mnamita2/practical_cs/blob/main/Question_2.ipynb\" target=\"_parent\"><img src=\"https://colab.research.google.com/assets/colab-badge.svg\" alt=\"Open In Colab\"/></a>"
      ]
    },
    {
      "cell_type": "code",
      "execution_count": 1,
      "metadata": {
        "colab": {
          "base_uri": "https://localhost:8080/"
        },
        "id": "J_eCLcwI_aDU",
        "outputId": "d604a2aa-5f79-4696-e95a-a3f93e9989ee"
      },
      "outputs": [
        {
          "output_type": "stream",
          "name": "stdout",
          "text": [
            "(1, 2, 3, 4, 5)\n",
            "(6, 7, 8, 9, 10)\n"
          ]
        }
      ],
      "source": [
        "#QUESTION NIUMBER 02 \n",
        "#part 1\n",
        "t1 = (1,2,3,4,5,6,7,8,9,10)\n",
        "t1a = t1[:5]\n",
        "t1b = t1[5:]\n",
        "print(t1a)\n",
        "print(t1b)"
      ]
    },
    {
      "cell_type": "code",
      "source": [
        "#part 2\n",
        "t1 = (1,2,3,4,5,6,7,8,9,10)\n",
        "n = list (t1)\n",
        "list1 = list()\n",
        "for i in n:\n",
        "    if i in n:\n",
        "         if i%2==0:\n",
        "             list1.append(i)\n",
        "    p = tuple(list1) \n",
        "print('tuple:',p) \n",
        "print()"
      ],
      "metadata": {
        "colab": {
          "base_uri": "https://localhost:8080/"
        },
        "id": "CAtCb09XAAxl",
        "outputId": "5a9a4536-a6b6-41aa-f089-54db4b6deb20"
      },
      "execution_count": 3,
      "outputs": [
        {
          "output_type": "stream",
          "name": "stdout",
          "text": [
            "tuple: (2, 4, 6, 8, 10)\n",
            "\n"
          ]
        }
      ]
    },
    {
      "cell_type": "code",
      "source": [
        "#part 3\n",
        "t1 = (1,2,3,4,5,6,7,8,9,10)\n",
        "t2 = (11,13,15)\n",
        "a = list(t1)\n",
        "b = list(t2)\n",
        "c=(a+b)\n",
        "print(c)"
      ],
      "metadata": {
        "colab": {
          "base_uri": "https://localhost:8080/"
        },
        "id": "8yvkeMQ2Arpv",
        "outputId": "4312348c-920a-440c-be91-c57bcc806e54"
      },
      "execution_count": 5,
      "outputs": [
        {
          "output_type": "stream",
          "name": "stdout",
          "text": [
            "[1, 2, 3, 4, 5, 6, 7, 8, 9, 10, 11, 13, 15]\n"
          ]
        }
      ]
    },
    {
      "cell_type": "code",
      "source": [
        "#part 4\n",
        "t1 = (1,2,3,4,5,6,7,8,9,10)\n",
        "max(t1)\n",
        "min(t2)\n",
        "print(\"max no.is\",max(t1))\n",
        "print(\"min no.is\",min(t1))"
      ],
      "metadata": {
        "colab": {
          "base_uri": "https://localhost:8080/"
        },
        "id": "_ul9rRrhAvdg",
        "outputId": "f85f6733-4d36-45df-8133-e4f75f9df9a9"
      },
      "execution_count": 6,
      "outputs": [
        {
          "output_type": "stream",
          "name": "stdout",
          "text": [
            "max no.is 10\n",
            "min no.is 1\n"
          ]
        }
      ]
    }
  ]
}