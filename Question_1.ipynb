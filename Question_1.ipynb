{
  "nbformat": 4,
  "nbformat_minor": 0,
  "metadata": {
    "colab": {
      "name": "Question 1",
      "provenance": [],
      "authorship_tag": "ABX9TyOWRNrcxoKVatJEFBUI2t7J",
      "include_colab_link": true
    },
    "kernelspec": {
      "name": "python3",
      "display_name": "Python 3"
    },
    "language_info": {
      "name": "python"
    }
  },
  "cells": [
    {
      "cell_type": "markdown",
      "metadata": {
        "id": "view-in-github",
        "colab_type": "text"
      },
      "source": [
        "<a href=\"https://colab.research.google.com/github/mnamita2/practical_cs/blob/main/Question_1.ipynb\" target=\"_parent\"><img src=\"https://colab.research.google.com/assets/colab-badge.svg\" alt=\"Open In Colab\"/></a>"
      ]
    },
    {
      "cell_type": "code",
      "execution_count": null,
      "metadata": {
        "colab": {
          "base_uri": "https://localhost:8080/"
        },
        "id": "wbinBaon9F6i",
        "outputId": "970a4cdd-8c22-4b35-e649-38ce33b0b109"
      },
      "outputs": [
        {
          "output_type": "stream",
          "name": "stdout",
          "text": [
            "Enter a number:12\n",
            "sum of n even numbers is : 42\n",
            "sum on n odd numbers: 36\n"
          ]
        }
      ],
      "source": [
        "num = int(input(\"Enter a number:\"))\n",
        "s_even = s_odd=0\n",
        "x=1\n",
        "while x<=num:\n",
        "    if x%2==0:\n",
        "        s_even+=x\n",
        "    else : \n",
        "        s_odd+= x\n",
        "    x=x+1\n",
        "print(\"sum of n even numbers is :\",s_even)\n",
        "print(\"sum on n odd numbers:\",s_odd)"
      ]
    },
    {
      "cell_type": "code",
      "source": [
        "def odd():\n",
        "    sum = 0 \n",
        "    n = int(input(\"Enter the number of \")) \n",
        "    for i in range (0,n+1): \n",
        "        if i%2 == 1 : \n",
        "            sum += i \n",
        "            print(\"term = \",i,\", sum till this step = \", sum ) \n",
        "        else:\n",
        "           continue\n",
        "def even(): \n",
        "    n = int(input(\"Enter the number of \")) \n",
        "    sum = 0 \n",
        "    for i in range (0,n+1): \n",
        "        if i%2 == 0 : \n",
        "            sum+=i \n",
        "            print(\"term = \",i,\", sum till this step = \", sum )\n",
        "        else:\n",
        "          continue\n",
        "odd()\n",
        "even() "
      ],
      "metadata": {
        "colab": {
          "base_uri": "https://localhost:8080/"
        },
        "id": "Xxk4uGLT-Djj",
        "outputId": "731bf2d5-6807-4185-ab66-efeb6cdf0de1"
      },
      "execution_count": 4,
      "outputs": [
        {
          "output_type": "stream",
          "name": "stdout",
          "text": [
            "Enter the number of 12\n",
            "term =  1 , sum till this step =  1\n",
            "term =  3 , sum till this step =  4\n",
            "term =  5 , sum till this step =  9\n",
            "term =  7 , sum till this step =  16\n",
            "term =  9 , sum till this step =  25\n",
            "term =  11 , sum till this step =  36\n",
            "Enter the number of 10\n",
            "term =  0 , sum till this step =  0\n",
            "term =  2 , sum till this step =  2\n",
            "term =  4 , sum till this step =  6\n",
            "term =  6 , sum till this step =  12\n",
            "term =  8 , sum till this step =  20\n",
            "term =  10 , sum till this step =  30\n"
          ]
        }
      ]
    }
  ]
}